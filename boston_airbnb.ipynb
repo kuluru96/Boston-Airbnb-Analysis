{
  "nbformat": 4,
  "nbformat_minor": 0,
  "metadata": {
    "colab": {
      "name": "boston_airbnb.ipynb",
      "provenance": []
    },
    "kernelspec": {
      "name": "python3",
      "display_name": "Python 3"
    },
    "language_info": {
      "name": "python"
    }
  },
  "cells": [
    {
      "cell_type": "markdown",
      "metadata": {
        "id": "58fiXVZzPHxW"
      },
      "source": [
        "# **Project 1 - Boston AirBnb Analysis**\n",
        "\n",
        "The dataset is available at https://www.kaggle.com/airbnb/boston\n",
        "\n",
        "There are 3 files in the dataset:\n",
        "\n",
        "1.calendar.csv\n",
        "\n",
        "2.listings.csv\n",
        "\n",
        "3.reviews.csv\n",
        "# Data Science Process: CRISP-DM\n",
        "\n",
        "CRISP-DM is a Cross Industry Standard Process for Data Mining, has 6 major phases:\n",
        "\n",
        "1) Business Understanding\n",
        "\n",
        "- Q1.Find the most popular neighbourhood in Boston \n",
        "- Q2.Common Price Listings of AirBnb\n",
        "- Q3.Top Amenities\n",
        "\n",
        "2) Data Understanding\n",
        "\n",
        "- Understand the data by having a quick look at the features \n",
        "\n",
        "3) Prepare Data and 4) Model Data will cover following:\n",
        "\n",
        "- Gather necessary data \n",
        "- Handle categorical and missing data\n",
        "- Provide insight into the methods you chose and why you chose them\n",
        "- Analyze, Model, and Visualize\n",
        "\n",
        "5) Evaluate the Results against business questions at 1) 6) Deployement\n",
        "\n",
        "- The deployement of the project will be represented as an effective communication of the results & findings in a form of a blog post @medium\n"
      ]
    },
    {
      "cell_type": "code",
      "metadata": {
        "colab": {
          "base_uri": "https://localhost:8080/"
        },
        "id": "efcRhkg29Adx",
        "outputId": "4c1abf02-4b70-414f-8fa8-ab956e9157f0"
      },
      "source": [
        "from google.colab import drive\n",
        "drive.mount('/content/drive')"
      ],
      "execution_count": 1,
      "outputs": [
        {
          "output_type": "stream",
          "name": "stdout",
          "text": [
            "Drive already mounted at /content/drive; to attempt to forcibly remount, call drive.mount(\"/content/drive\", force_remount=True).\n"
          ]
        }
      ]
    },
    {
      "cell_type": "code",
      "metadata": {
        "colab": {
          "base_uri": "https://localhost:8080/"
        },
        "id": "v4yjbH5E9Wqa",
        "outputId": "b351d169-6cf8-40a1-b214-6d0e21edbab2"
      },
      "source": [
        "# Importing data and libraries\n",
        "import pandas as pd\n",
        "import numpy as np\n",
        "import matplotlib.pyplot as plt\n",
        "import seaborn as sns\n",
        "from sklearn.preprocessing import MultiLabelBinarizer \n",
        "%matplotlib inline\n",
        "\n",
        "\n",
        "listing_df = pd.read_csv('/content/drive/My Drive/Colab Notebooks/listings.csv')\n",
        "calendar_df = pd.read_csv('/content/drive/My Drive/Colab Notebooks/calendar.csv')\n",
        "reviews_df = pd.read_csv('/content/drive/My Drive/Colab Notebooks/reviews.csv')\n",
        "calendar_df.info()"
      ],
      "execution_count": 2,
      "outputs": [
        {
          "output_type": "stream",
          "name": "stdout",
          "text": [
            "<class 'pandas.core.frame.DataFrame'>\n",
            "RangeIndex: 1308890 entries, 0 to 1308889\n",
            "Data columns (total 4 columns):\n",
            " #   Column      Non-Null Count    Dtype \n",
            "---  ------      --------------    ----- \n",
            " 0   listing_id  1308890 non-null  int64 \n",
            " 1   date        1308890 non-null  object\n",
            " 2   available   1308890 non-null  object\n",
            " 3   price       643037 non-null   object\n",
            "dtypes: int64(1), object(3)\n",
            "memory usage: 39.9+ MB\n"
          ]
        }
      ]
    },
    {
      "cell_type": "markdown",
      "metadata": {
        "id": "bQKP_70yaEn5"
      },
      "source": [
        "# Understanding listings.csv"
      ]
    },
    {
      "cell_type": "code",
      "metadata": {
        "colab": {
          "base_uri": "https://localhost:8080/"
        },
        "id": "bo2XOehv9gwQ",
        "outputId": "d178aec2-0131-4f3c-84e4-e8f3d4df7e68"
      },
      "source": [
        "listing_df.info()"
      ],
      "execution_count": 3,
      "outputs": [
        {
          "output_type": "stream",
          "name": "stdout",
          "text": [
            "<class 'pandas.core.frame.DataFrame'>\n",
            "RangeIndex: 3585 entries, 0 to 3584\n",
            "Data columns (total 95 columns):\n",
            " #   Column                            Non-Null Count  Dtype  \n",
            "---  ------                            --------------  -----  \n",
            " 0   id                                3585 non-null   int64  \n",
            " 1   listing_url                       3585 non-null   object \n",
            " 2   scrape_id                         3585 non-null   int64  \n",
            " 3   last_scraped                      3585 non-null   object \n",
            " 4   name                              3585 non-null   object \n",
            " 5   summary                           3442 non-null   object \n",
            " 6   space                             2528 non-null   object \n",
            " 7   description                       3585 non-null   object \n",
            " 8   experiences_offered               3585 non-null   object \n",
            " 9   neighborhood_overview             2170 non-null   object \n",
            " 10  notes                             1610 non-null   object \n",
            " 11  transit                           2295 non-null   object \n",
            " 12  access                            2096 non-null   object \n",
            " 13  interaction                       2031 non-null   object \n",
            " 14  house_rules                       2393 non-null   object \n",
            " 15  thumbnail_url                     2986 non-null   object \n",
            " 16  medium_url                        2986 non-null   object \n",
            " 17  picture_url                       3585 non-null   object \n",
            " 18  xl_picture_url                    2986 non-null   object \n",
            " 19  host_id                           3585 non-null   int64  \n",
            " 20  host_url                          3585 non-null   object \n",
            " 21  host_name                         3585 non-null   object \n",
            " 22  host_since                        3585 non-null   object \n",
            " 23  host_location                     3574 non-null   object \n",
            " 24  host_about                        2276 non-null   object \n",
            " 25  host_response_time                3114 non-null   object \n",
            " 26  host_response_rate                3114 non-null   object \n",
            " 27  host_acceptance_rate              3114 non-null   object \n",
            " 28  host_is_superhost                 3585 non-null   object \n",
            " 29  host_thumbnail_url                3585 non-null   object \n",
            " 30  host_picture_url                  3585 non-null   object \n",
            " 31  host_neighbourhood                3246 non-null   object \n",
            " 32  host_listings_count               3585 non-null   int64  \n",
            " 33  host_total_listings_count         3585 non-null   int64  \n",
            " 34  host_verifications                3585 non-null   object \n",
            " 35  host_has_profile_pic              3585 non-null   object \n",
            " 36  host_identity_verified            3585 non-null   object \n",
            " 37  street                            3585 non-null   object \n",
            " 38  neighbourhood                     3042 non-null   object \n",
            " 39  neighbourhood_cleansed            3585 non-null   object \n",
            " 40  neighbourhood_group_cleansed      0 non-null      float64\n",
            " 41  city                              3583 non-null   object \n",
            " 42  state                             3585 non-null   object \n",
            " 43  zipcode                           3547 non-null   object \n",
            " 44  market                            3571 non-null   object \n",
            " 45  smart_location                    3585 non-null   object \n",
            " 46  country_code                      3585 non-null   object \n",
            " 47  country                           3585 non-null   object \n",
            " 48  latitude                          3585 non-null   float64\n",
            " 49  longitude                         3585 non-null   float64\n",
            " 50  is_location_exact                 3585 non-null   object \n",
            " 51  property_type                     3582 non-null   object \n",
            " 52  room_type                         3585 non-null   object \n",
            " 53  accommodates                      3585 non-null   int64  \n",
            " 54  bathrooms                         3571 non-null   float64\n",
            " 55  bedrooms                          3575 non-null   float64\n",
            " 56  beds                              3576 non-null   float64\n",
            " 57  bed_type                          3585 non-null   object \n",
            " 58  amenities                         3585 non-null   object \n",
            " 59  square_feet                       56 non-null     float64\n",
            " 60  price                             3585 non-null   object \n",
            " 61  weekly_price                      892 non-null    object \n",
            " 62  monthly_price                     888 non-null    object \n",
            " 63  security_deposit                  1342 non-null   object \n",
            " 64  cleaning_fee                      2478 non-null   object \n",
            " 65  guests_included                   3585 non-null   int64  \n",
            " 66  extra_people                      3585 non-null   object \n",
            " 67  minimum_nights                    3585 non-null   int64  \n",
            " 68  maximum_nights                    3585 non-null   int64  \n",
            " 69  calendar_updated                  3585 non-null   object \n",
            " 70  has_availability                  0 non-null      float64\n",
            " 71  availability_30                   3585 non-null   int64  \n",
            " 72  availability_60                   3585 non-null   int64  \n",
            " 73  availability_90                   3585 non-null   int64  \n",
            " 74  availability_365                  3585 non-null   int64  \n",
            " 75  calendar_last_scraped             3585 non-null   object \n",
            " 76  number_of_reviews                 3585 non-null   int64  \n",
            " 77  first_review                      2829 non-null   object \n",
            " 78  last_review                       2829 non-null   object \n",
            " 79  review_scores_rating              2772 non-null   float64\n",
            " 80  review_scores_accuracy            2762 non-null   float64\n",
            " 81  review_scores_cleanliness         2767 non-null   float64\n",
            " 82  review_scores_checkin             2765 non-null   float64\n",
            " 83  review_scores_communication       2767 non-null   float64\n",
            " 84  review_scores_location            2763 non-null   float64\n",
            " 85  review_scores_value               2764 non-null   float64\n",
            " 86  requires_license                  3585 non-null   object \n",
            " 87  license                           0 non-null      float64\n",
            " 88  jurisdiction_names                0 non-null      float64\n",
            " 89  instant_bookable                  3585 non-null   object \n",
            " 90  cancellation_policy               3585 non-null   object \n",
            " 91  require_guest_profile_picture     3585 non-null   object \n",
            " 92  require_guest_phone_verification  3585 non-null   object \n",
            " 93  calculated_host_listings_count    3585 non-null   int64  \n",
            " 94  reviews_per_month                 2829 non-null   float64\n",
            "dtypes: float64(18), int64(15), object(62)\n",
            "memory usage: 2.6+ MB\n"
          ]
        }
      ]
    },
    {
      "cell_type": "code",
      "metadata": {
        "colab": {
          "base_uri": "https://localhost:8080/",
          "height": 775
        },
        "id": "t9V2AMh39xEV",
        "outputId": "f45240b4-f95c-4ca4-ee26-ebeeb543c9d6"
      },
      "source": [
        "listing_df.head()"
      ],
      "execution_count": 4,
      "outputs": [
        {
          "output_type": "execute_result",
          "data": {
            "text/html": [
              "<div>\n",
              "<style scoped>\n",
              "    .dataframe tbody tr th:only-of-type {\n",
              "        vertical-align: middle;\n",
              "    }\n",
              "\n",
              "    .dataframe tbody tr th {\n",
              "        vertical-align: top;\n",
              "    }\n",
              "\n",
              "    .dataframe thead th {\n",
              "        text-align: right;\n",
              "    }\n",
              "</style>\n",
              "<table border=\"1\" class=\"dataframe\">\n",
              "  <thead>\n",
              "    <tr style=\"text-align: right;\">\n",
              "      <th></th>\n",
              "      <th>id</th>\n",
              "      <th>listing_url</th>\n",
              "      <th>scrape_id</th>\n",
              "      <th>last_scraped</th>\n",
              "      <th>name</th>\n",
              "      <th>summary</th>\n",
              "      <th>space</th>\n",
              "      <th>description</th>\n",
              "      <th>experiences_offered</th>\n",
              "      <th>neighborhood_overview</th>\n",
              "      <th>notes</th>\n",
              "      <th>transit</th>\n",
              "      <th>access</th>\n",
              "      <th>interaction</th>\n",
              "      <th>house_rules</th>\n",
              "      <th>thumbnail_url</th>\n",
              "      <th>medium_url</th>\n",
              "      <th>picture_url</th>\n",
              "      <th>xl_picture_url</th>\n",
              "      <th>host_id</th>\n",
              "      <th>host_url</th>\n",
              "      <th>host_name</th>\n",
              "      <th>host_since</th>\n",
              "      <th>host_location</th>\n",
              "      <th>host_about</th>\n",
              "      <th>host_response_time</th>\n",
              "      <th>host_response_rate</th>\n",
              "      <th>host_acceptance_rate</th>\n",
              "      <th>host_is_superhost</th>\n",
              "      <th>host_thumbnail_url</th>\n",
              "      <th>host_picture_url</th>\n",
              "      <th>host_neighbourhood</th>\n",
              "      <th>host_listings_count</th>\n",
              "      <th>host_total_listings_count</th>\n",
              "      <th>host_verifications</th>\n",
              "      <th>host_has_profile_pic</th>\n",
              "      <th>host_identity_verified</th>\n",
              "      <th>street</th>\n",
              "      <th>neighbourhood</th>\n",
              "      <th>neighbourhood_cleansed</th>\n",
              "      <th>...</th>\n",
              "      <th>bedrooms</th>\n",
              "      <th>beds</th>\n",
              "      <th>bed_type</th>\n",
              "      <th>amenities</th>\n",
              "      <th>square_feet</th>\n",
              "      <th>price</th>\n",
              "      <th>weekly_price</th>\n",
              "      <th>monthly_price</th>\n",
              "      <th>security_deposit</th>\n",
              "      <th>cleaning_fee</th>\n",
              "      <th>guests_included</th>\n",
              "      <th>extra_people</th>\n",
              "      <th>minimum_nights</th>\n",
              "      <th>maximum_nights</th>\n",
              "      <th>calendar_updated</th>\n",
              "      <th>has_availability</th>\n",
              "      <th>availability_30</th>\n",
              "      <th>availability_60</th>\n",
              "      <th>availability_90</th>\n",
              "      <th>availability_365</th>\n",
              "      <th>calendar_last_scraped</th>\n",
              "      <th>number_of_reviews</th>\n",
              "      <th>first_review</th>\n",
              "      <th>last_review</th>\n",
              "      <th>review_scores_rating</th>\n",
              "      <th>review_scores_accuracy</th>\n",
              "      <th>review_scores_cleanliness</th>\n",
              "      <th>review_scores_checkin</th>\n",
              "      <th>review_scores_communication</th>\n",
              "      <th>review_scores_location</th>\n",
              "      <th>review_scores_value</th>\n",
              "      <th>requires_license</th>\n",
              "      <th>license</th>\n",
              "      <th>jurisdiction_names</th>\n",
              "      <th>instant_bookable</th>\n",
              "      <th>cancellation_policy</th>\n",
              "      <th>require_guest_profile_picture</th>\n",
              "      <th>require_guest_phone_verification</th>\n",
              "      <th>calculated_host_listings_count</th>\n",
              "      <th>reviews_per_month</th>\n",
              "    </tr>\n",
              "  </thead>\n",
              "  <tbody>\n",
              "    <tr>\n",
              "      <th>0</th>\n",
              "      <td>12147973</td>\n",
              "      <td>https://www.airbnb.com/rooms/12147973</td>\n",
              "      <td>20160906204935</td>\n",
              "      <td>2016-09-07</td>\n",
              "      <td>Sunny Bungalow in the City</td>\n",
              "      <td>Cozy, sunny, family home.  Master bedroom high...</td>\n",
              "      <td>The house has an open and cozy feel at the sam...</td>\n",
              "      <td>Cozy, sunny, family home.  Master bedroom high...</td>\n",
              "      <td>none</td>\n",
              "      <td>Roslindale is quiet, convenient and friendly. ...</td>\n",
              "      <td>NaN</td>\n",
              "      <td>The bus stop is 2 blocks away, and frequent. B...</td>\n",
              "      <td>You will have access to 2 bedrooms, a living r...</td>\n",
              "      <td>NaN</td>\n",
              "      <td>Clean up and treat the home the way you'd like...</td>\n",
              "      <td>https://a2.muscache.com/im/pictures/c0842db1-e...</td>\n",
              "      <td>https://a2.muscache.com/im/pictures/c0842db1-e...</td>\n",
              "      <td>https://a2.muscache.com/im/pictures/c0842db1-e...</td>\n",
              "      <td>https://a2.muscache.com/im/pictures/c0842db1-e...</td>\n",
              "      <td>31303940</td>\n",
              "      <td>https://www.airbnb.com/users/show/31303940</td>\n",
              "      <td>Virginia</td>\n",
              "      <td>2015-04-15</td>\n",
              "      <td>Boston, Massachusetts, United States</td>\n",
              "      <td>We are country and city connecting in our deck...</td>\n",
              "      <td>NaN</td>\n",
              "      <td>NaN</td>\n",
              "      <td>NaN</td>\n",
              "      <td>f</td>\n",
              "      <td>https://a2.muscache.com/im/pictures/5936fef0-b...</td>\n",
              "      <td>https://a2.muscache.com/im/pictures/5936fef0-b...</td>\n",
              "      <td>Roslindale</td>\n",
              "      <td>1</td>\n",
              "      <td>1</td>\n",
              "      <td>['email', 'phone', 'facebook', 'reviews']</td>\n",
              "      <td>t</td>\n",
              "      <td>f</td>\n",
              "      <td>Birch Street, Boston, MA 02131, United States</td>\n",
              "      <td>Roslindale</td>\n",
              "      <td>Roslindale</td>\n",
              "      <td>...</td>\n",
              "      <td>2.0</td>\n",
              "      <td>3.0</td>\n",
              "      <td>Real Bed</td>\n",
              "      <td>{TV,\"Wireless Internet\",Kitchen,\"Free Parking ...</td>\n",
              "      <td>NaN</td>\n",
              "      <td>$250.00</td>\n",
              "      <td>NaN</td>\n",
              "      <td>NaN</td>\n",
              "      <td>NaN</td>\n",
              "      <td>$35.00</td>\n",
              "      <td>1</td>\n",
              "      <td>$0.00</td>\n",
              "      <td>2</td>\n",
              "      <td>1125</td>\n",
              "      <td>2 weeks ago</td>\n",
              "      <td>NaN</td>\n",
              "      <td>0</td>\n",
              "      <td>0</td>\n",
              "      <td>0</td>\n",
              "      <td>0</td>\n",
              "      <td>2016-09-06</td>\n",
              "      <td>0</td>\n",
              "      <td>NaN</td>\n",
              "      <td>NaN</td>\n",
              "      <td>NaN</td>\n",
              "      <td>NaN</td>\n",
              "      <td>NaN</td>\n",
              "      <td>NaN</td>\n",
              "      <td>NaN</td>\n",
              "      <td>NaN</td>\n",
              "      <td>NaN</td>\n",
              "      <td>f</td>\n",
              "      <td>NaN</td>\n",
              "      <td>NaN</td>\n",
              "      <td>f</td>\n",
              "      <td>moderate</td>\n",
              "      <td>f</td>\n",
              "      <td>f</td>\n",
              "      <td>1</td>\n",
              "      <td>NaN</td>\n",
              "    </tr>\n",
              "    <tr>\n",
              "      <th>1</th>\n",
              "      <td>3075044</td>\n",
              "      <td>https://www.airbnb.com/rooms/3075044</td>\n",
              "      <td>20160906204935</td>\n",
              "      <td>2016-09-07</td>\n",
              "      <td>Charming room in pet friendly apt</td>\n",
              "      <td>Charming and quiet room in a second floor 1910...</td>\n",
              "      <td>Small but cozy and quite room with a full size...</td>\n",
              "      <td>Charming and quiet room in a second floor 1910...</td>\n",
              "      <td>none</td>\n",
              "      <td>The room is in Roslindale, a diverse and prima...</td>\n",
              "      <td>If you don't have a US cell phone, you can tex...</td>\n",
              "      <td>Plenty of safe street parking. Bus stops a few...</td>\n",
              "      <td>Apt has one more bedroom (which I use) and lar...</td>\n",
              "      <td>If I am at home, I am likely working in my hom...</td>\n",
              "      <td>Pet friendly but please confirm with me if the...</td>\n",
              "      <td>https://a1.muscache.com/im/pictures/39327812/d...</td>\n",
              "      <td>https://a1.muscache.com/im/pictures/39327812/d...</td>\n",
              "      <td>https://a1.muscache.com/im/pictures/39327812/d...</td>\n",
              "      <td>https://a1.muscache.com/im/pictures/39327812/d...</td>\n",
              "      <td>2572247</td>\n",
              "      <td>https://www.airbnb.com/users/show/2572247</td>\n",
              "      <td>Andrea</td>\n",
              "      <td>2012-06-07</td>\n",
              "      <td>Boston, Massachusetts, United States</td>\n",
              "      <td>I live in Boston and I like to travel and have...</td>\n",
              "      <td>within an hour</td>\n",
              "      <td>100%</td>\n",
              "      <td>100%</td>\n",
              "      <td>f</td>\n",
              "      <td>https://a2.muscache.com/im/users/2572247/profi...</td>\n",
              "      <td>https://a2.muscache.com/im/users/2572247/profi...</td>\n",
              "      <td>Roslindale</td>\n",
              "      <td>1</td>\n",
              "      <td>1</td>\n",
              "      <td>['email', 'phone', 'facebook', 'linkedin', 'am...</td>\n",
              "      <td>t</td>\n",
              "      <td>t</td>\n",
              "      <td>Pinehurst Street, Boston, MA 02131, United States</td>\n",
              "      <td>Roslindale</td>\n",
              "      <td>Roslindale</td>\n",
              "      <td>...</td>\n",
              "      <td>1.0</td>\n",
              "      <td>1.0</td>\n",
              "      <td>Real Bed</td>\n",
              "      <td>{TV,Internet,\"Wireless Internet\",\"Air Conditio...</td>\n",
              "      <td>NaN</td>\n",
              "      <td>$65.00</td>\n",
              "      <td>$400.00</td>\n",
              "      <td>NaN</td>\n",
              "      <td>$95.00</td>\n",
              "      <td>$10.00</td>\n",
              "      <td>0</td>\n",
              "      <td>$0.00</td>\n",
              "      <td>2</td>\n",
              "      <td>15</td>\n",
              "      <td>a week ago</td>\n",
              "      <td>NaN</td>\n",
              "      <td>26</td>\n",
              "      <td>54</td>\n",
              "      <td>84</td>\n",
              "      <td>359</td>\n",
              "      <td>2016-09-06</td>\n",
              "      <td>36</td>\n",
              "      <td>2014-06-01</td>\n",
              "      <td>2016-08-13</td>\n",
              "      <td>94.0</td>\n",
              "      <td>10.0</td>\n",
              "      <td>9.0</td>\n",
              "      <td>10.0</td>\n",
              "      <td>10.0</td>\n",
              "      <td>9.0</td>\n",
              "      <td>9.0</td>\n",
              "      <td>f</td>\n",
              "      <td>NaN</td>\n",
              "      <td>NaN</td>\n",
              "      <td>t</td>\n",
              "      <td>moderate</td>\n",
              "      <td>f</td>\n",
              "      <td>f</td>\n",
              "      <td>1</td>\n",
              "      <td>1.30</td>\n",
              "    </tr>\n",
              "    <tr>\n",
              "      <th>2</th>\n",
              "      <td>6976</td>\n",
              "      <td>https://www.airbnb.com/rooms/6976</td>\n",
              "      <td>20160906204935</td>\n",
              "      <td>2016-09-07</td>\n",
              "      <td>Mexican Folk Art Haven in Boston</td>\n",
              "      <td>Come stay with a friendly, middle-aged guy in ...</td>\n",
              "      <td>Come stay with a friendly, middle-aged guy in ...</td>\n",
              "      <td>Come stay with a friendly, middle-aged guy in ...</td>\n",
              "      <td>none</td>\n",
              "      <td>The LOCATION: Roslindale is a safe and diverse...</td>\n",
              "      <td>I am in a scenic part of Boston with a couple ...</td>\n",
              "      <td>PUBLIC TRANSPORTATION: From the house, quick p...</td>\n",
              "      <td>I am living in the apartment during your stay,...</td>\n",
              "      <td>ABOUT ME: I'm a laid-back, friendly, unmarried...</td>\n",
              "      <td>I encourage you to use my kitchen, cooking and...</td>\n",
              "      <td>https://a2.muscache.com/im/pictures/6ae8335d-9...</td>\n",
              "      <td>https://a2.muscache.com/im/pictures/6ae8335d-9...</td>\n",
              "      <td>https://a2.muscache.com/im/pictures/6ae8335d-9...</td>\n",
              "      <td>https://a2.muscache.com/im/pictures/6ae8335d-9...</td>\n",
              "      <td>16701</td>\n",
              "      <td>https://www.airbnb.com/users/show/16701</td>\n",
              "      <td>Phil</td>\n",
              "      <td>2009-05-11</td>\n",
              "      <td>Boston, Massachusetts, United States</td>\n",
              "      <td>I am a middle-aged, single male with a wide ra...</td>\n",
              "      <td>within a few hours</td>\n",
              "      <td>100%</td>\n",
              "      <td>88%</td>\n",
              "      <td>t</td>\n",
              "      <td>https://a2.muscache.com/im/users/16701/profile...</td>\n",
              "      <td>https://a2.muscache.com/im/users/16701/profile...</td>\n",
              "      <td>Roslindale</td>\n",
              "      <td>1</td>\n",
              "      <td>1</td>\n",
              "      <td>['email', 'phone', 'reviews', 'jumio']</td>\n",
              "      <td>t</td>\n",
              "      <td>t</td>\n",
              "      <td>Ardale St., Boston, MA 02131, United States</td>\n",
              "      <td>Roslindale</td>\n",
              "      <td>Roslindale</td>\n",
              "      <td>...</td>\n",
              "      <td>1.0</td>\n",
              "      <td>1.0</td>\n",
              "      <td>Real Bed</td>\n",
              "      <td>{TV,\"Cable TV\",\"Wireless Internet\",\"Air Condit...</td>\n",
              "      <td>NaN</td>\n",
              "      <td>$65.00</td>\n",
              "      <td>$395.00</td>\n",
              "      <td>$1,350.00</td>\n",
              "      <td>NaN</td>\n",
              "      <td>NaN</td>\n",
              "      <td>1</td>\n",
              "      <td>$20.00</td>\n",
              "      <td>3</td>\n",
              "      <td>45</td>\n",
              "      <td>5 days ago</td>\n",
              "      <td>NaN</td>\n",
              "      <td>19</td>\n",
              "      <td>46</td>\n",
              "      <td>61</td>\n",
              "      <td>319</td>\n",
              "      <td>2016-09-06</td>\n",
              "      <td>41</td>\n",
              "      <td>2009-07-19</td>\n",
              "      <td>2016-08-05</td>\n",
              "      <td>98.0</td>\n",
              "      <td>10.0</td>\n",
              "      <td>9.0</td>\n",
              "      <td>10.0</td>\n",
              "      <td>10.0</td>\n",
              "      <td>9.0</td>\n",
              "      <td>10.0</td>\n",
              "      <td>f</td>\n",
              "      <td>NaN</td>\n",
              "      <td>NaN</td>\n",
              "      <td>f</td>\n",
              "      <td>moderate</td>\n",
              "      <td>t</td>\n",
              "      <td>f</td>\n",
              "      <td>1</td>\n",
              "      <td>0.47</td>\n",
              "    </tr>\n",
              "    <tr>\n",
              "      <th>3</th>\n",
              "      <td>1436513</td>\n",
              "      <td>https://www.airbnb.com/rooms/1436513</td>\n",
              "      <td>20160906204935</td>\n",
              "      <td>2016-09-07</td>\n",
              "      <td>Spacious Sunny Bedroom Suite in Historic Home</td>\n",
              "      <td>Come experience the comforts of home away from...</td>\n",
              "      <td>Most places you find in Boston are small howev...</td>\n",
              "      <td>Come experience the comforts of home away from...</td>\n",
              "      <td>none</td>\n",
              "      <td>Roslindale is a lovely little neighborhood loc...</td>\n",
              "      <td>Please be mindful of the property as it is old...</td>\n",
              "      <td>There are buses that stop right in front of th...</td>\n",
              "      <td>The basement has a washer dryer and gym area. ...</td>\n",
              "      <td>We do live in the house therefore might be som...</td>\n",
              "      <td>- The bathroom and house are shared so please ...</td>\n",
              "      <td>https://a2.muscache.com/im/pictures/39764190-1...</td>\n",
              "      <td>https://a2.muscache.com/im/pictures/39764190-1...</td>\n",
              "      <td>https://a2.muscache.com/im/pictures/39764190-1...</td>\n",
              "      <td>https://a2.muscache.com/im/pictures/39764190-1...</td>\n",
              "      <td>6031442</td>\n",
              "      <td>https://www.airbnb.com/users/show/6031442</td>\n",
              "      <td>Meghna</td>\n",
              "      <td>2013-04-21</td>\n",
              "      <td>Boston, Massachusetts, United States</td>\n",
              "      <td>My husband and I live on the property.  He’s a...</td>\n",
              "      <td>within a few hours</td>\n",
              "      <td>100%</td>\n",
              "      <td>50%</td>\n",
              "      <td>f</td>\n",
              "      <td>https://a2.muscache.com/im/pictures/5d430cde-7...</td>\n",
              "      <td>https://a2.muscache.com/im/pictures/5d430cde-7...</td>\n",
              "      <td>NaN</td>\n",
              "      <td>1</td>\n",
              "      <td>1</td>\n",
              "      <td>['email', 'phone', 'reviews']</td>\n",
              "      <td>t</td>\n",
              "      <td>f</td>\n",
              "      <td>Boston, MA, United States</td>\n",
              "      <td>NaN</td>\n",
              "      <td>Roslindale</td>\n",
              "      <td>...</td>\n",
              "      <td>1.0</td>\n",
              "      <td>2.0</td>\n",
              "      <td>Real Bed</td>\n",
              "      <td>{TV,Internet,\"Wireless Internet\",\"Air Conditio...</td>\n",
              "      <td>NaN</td>\n",
              "      <td>$75.00</td>\n",
              "      <td>NaN</td>\n",
              "      <td>NaN</td>\n",
              "      <td>$100.00</td>\n",
              "      <td>$50.00</td>\n",
              "      <td>2</td>\n",
              "      <td>$25.00</td>\n",
              "      <td>1</td>\n",
              "      <td>1125</td>\n",
              "      <td>a week ago</td>\n",
              "      <td>NaN</td>\n",
              "      <td>6</td>\n",
              "      <td>16</td>\n",
              "      <td>26</td>\n",
              "      <td>98</td>\n",
              "      <td>2016-09-06</td>\n",
              "      <td>1</td>\n",
              "      <td>2016-08-28</td>\n",
              "      <td>2016-08-28</td>\n",
              "      <td>100.0</td>\n",
              "      <td>10.0</td>\n",
              "      <td>10.0</td>\n",
              "      <td>10.0</td>\n",
              "      <td>10.0</td>\n",
              "      <td>10.0</td>\n",
              "      <td>10.0</td>\n",
              "      <td>f</td>\n",
              "      <td>NaN</td>\n",
              "      <td>NaN</td>\n",
              "      <td>f</td>\n",
              "      <td>moderate</td>\n",
              "      <td>f</td>\n",
              "      <td>f</td>\n",
              "      <td>1</td>\n",
              "      <td>1.00</td>\n",
              "    </tr>\n",
              "    <tr>\n",
              "      <th>4</th>\n",
              "      <td>7651065</td>\n",
              "      <td>https://www.airbnb.com/rooms/7651065</td>\n",
              "      <td>20160906204935</td>\n",
              "      <td>2016-09-07</td>\n",
              "      <td>Come Home to Boston</td>\n",
              "      <td>My comfy, clean and relaxing home is one block...</td>\n",
              "      <td>Clean, attractive, private room, one block fro...</td>\n",
              "      <td>My comfy, clean and relaxing home is one block...</td>\n",
              "      <td>none</td>\n",
              "      <td>I love the proximity to downtown, the neighbor...</td>\n",
              "      <td>I have one roommate who lives on the lower lev...</td>\n",
              "      <td>From Logan Airport  and South Station you have...</td>\n",
              "      <td>You will have access to the front and side por...</td>\n",
              "      <td>I love my city and really enjoy sharing it wit...</td>\n",
              "      <td>Please no smoking in the house, porch or on th...</td>\n",
              "      <td>https://a1.muscache.com/im/pictures/97154760/8...</td>\n",
              "      <td>https://a1.muscache.com/im/pictures/97154760/8...</td>\n",
              "      <td>https://a1.muscache.com/im/pictures/97154760/8...</td>\n",
              "      <td>https://a1.muscache.com/im/pictures/97154760/8...</td>\n",
              "      <td>15396970</td>\n",
              "      <td>https://www.airbnb.com/users/show/15396970</td>\n",
              "      <td>Linda</td>\n",
              "      <td>2014-05-11</td>\n",
              "      <td>Boston, Massachusetts, United States</td>\n",
              "      <td>I work full time for a public school district....</td>\n",
              "      <td>within an hour</td>\n",
              "      <td>100%</td>\n",
              "      <td>100%</td>\n",
              "      <td>t</td>\n",
              "      <td>https://a0.muscache.com/im/users/15396970/prof...</td>\n",
              "      <td>https://a0.muscache.com/im/users/15396970/prof...</td>\n",
              "      <td>Roslindale</td>\n",
              "      <td>1</td>\n",
              "      <td>1</td>\n",
              "      <td>['email', 'phone', 'reviews', 'kba']</td>\n",
              "      <td>t</td>\n",
              "      <td>t</td>\n",
              "      <td>Durnell Avenue, Boston, MA 02131, United States</td>\n",
              "      <td>Roslindale</td>\n",
              "      <td>Roslindale</td>\n",
              "      <td>...</td>\n",
              "      <td>1.0</td>\n",
              "      <td>2.0</td>\n",
              "      <td>Real Bed</td>\n",
              "      <td>{Internet,\"Wireless Internet\",\"Air Conditionin...</td>\n",
              "      <td>NaN</td>\n",
              "      <td>$79.00</td>\n",
              "      <td>NaN</td>\n",
              "      <td>NaN</td>\n",
              "      <td>NaN</td>\n",
              "      <td>$15.00</td>\n",
              "      <td>1</td>\n",
              "      <td>$0.00</td>\n",
              "      <td>2</td>\n",
              "      <td>31</td>\n",
              "      <td>2 weeks ago</td>\n",
              "      <td>NaN</td>\n",
              "      <td>13</td>\n",
              "      <td>34</td>\n",
              "      <td>59</td>\n",
              "      <td>334</td>\n",
              "      <td>2016-09-06</td>\n",
              "      <td>29</td>\n",
              "      <td>2015-08-18</td>\n",
              "      <td>2016-09-01</td>\n",
              "      <td>99.0</td>\n",
              "      <td>10.0</td>\n",
              "      <td>10.0</td>\n",
              "      <td>10.0</td>\n",
              "      <td>10.0</td>\n",
              "      <td>9.0</td>\n",
              "      <td>10.0</td>\n",
              "      <td>f</td>\n",
              "      <td>NaN</td>\n",
              "      <td>NaN</td>\n",
              "      <td>f</td>\n",
              "      <td>flexible</td>\n",
              "      <td>f</td>\n",
              "      <td>f</td>\n",
              "      <td>1</td>\n",
              "      <td>2.25</td>\n",
              "    </tr>\n",
              "  </tbody>\n",
              "</table>\n",
              "<p>5 rows × 95 columns</p>\n",
              "</div>"
            ],
            "text/plain": [
              "         id  ... reviews_per_month\n",
              "0  12147973  ...               NaN\n",
              "1   3075044  ...              1.30\n",
              "2      6976  ...              0.47\n",
              "3   1436513  ...              1.00\n",
              "4   7651065  ...              2.25\n",
              "\n",
              "[5 rows x 95 columns]"
            ]
          },
          "metadata": {},
          "execution_count": 4
        }
      ]
    },
    {
      "cell_type": "code",
      "metadata": {
        "colab": {
          "base_uri": "https://localhost:8080/"
        },
        "id": "C2FNJLnC90Mk",
        "outputId": "c05f7c15-2abf-4245-bffc-c002ffff2a77"
      },
      "source": [
        "listing_df.columns"
      ],
      "execution_count": 5,
      "outputs": [
        {
          "output_type": "execute_result",
          "data": {
            "text/plain": [
              "Index(['id', 'listing_url', 'scrape_id', 'last_scraped', 'name', 'summary',\n",
              "       'space', 'description', 'experiences_offered', 'neighborhood_overview',\n",
              "       'notes', 'transit', 'access', 'interaction', 'house_rules',\n",
              "       'thumbnail_url', 'medium_url', 'picture_url', 'xl_picture_url',\n",
              "       'host_id', 'host_url', 'host_name', 'host_since', 'host_location',\n",
              "       'host_about', 'host_response_time', 'host_response_rate',\n",
              "       'host_acceptance_rate', 'host_is_superhost', 'host_thumbnail_url',\n",
              "       'host_picture_url', 'host_neighbourhood', 'host_listings_count',\n",
              "       'host_total_listings_count', 'host_verifications',\n",
              "       'host_has_profile_pic', 'host_identity_verified', 'street',\n",
              "       'neighbourhood', 'neighbourhood_cleansed',\n",
              "       'neighbourhood_group_cleansed', 'city', 'state', 'zipcode', 'market',\n",
              "       'smart_location', 'country_code', 'country', 'latitude', 'longitude',\n",
              "       'is_location_exact', 'property_type', 'room_type', 'accommodates',\n",
              "       'bathrooms', 'bedrooms', 'beds', 'bed_type', 'amenities', 'square_feet',\n",
              "       'price', 'weekly_price', 'monthly_price', 'security_deposit',\n",
              "       'cleaning_fee', 'guests_included', 'extra_people', 'minimum_nights',\n",
              "       'maximum_nights', 'calendar_updated', 'has_availability',\n",
              "       'availability_30', 'availability_60', 'availability_90',\n",
              "       'availability_365', 'calendar_last_scraped', 'number_of_reviews',\n",
              "       'first_review', 'last_review', 'review_scores_rating',\n",
              "       'review_scores_accuracy', 'review_scores_cleanliness',\n",
              "       'review_scores_checkin', 'review_scores_communication',\n",
              "       'review_scores_location', 'review_scores_value', 'requires_license',\n",
              "       'license', 'jurisdiction_names', 'instant_bookable',\n",
              "       'cancellation_policy', 'require_guest_profile_picture',\n",
              "       'require_guest_phone_verification', 'calculated_host_listings_count',\n",
              "       'reviews_per_month'],\n",
              "      dtype='object')"
            ]
          },
          "metadata": {},
          "execution_count": 5
        }
      ]
    },
    {
      "cell_type": "code",
      "metadata": {
        "colab": {
          "base_uri": "https://localhost:8080/"
        },
        "id": "3WVswu6-93_q",
        "outputId": "a50bd8c6-48c9-4145-a19c-a9230fad5822"
      },
      "source": [
        "listing_df['host_location'].value_counts()"
      ],
      "execution_count": 6,
      "outputs": [
        {
          "output_type": "execute_result",
          "data": {
            "text/plain": [
              "Boston, Massachusetts, United States              2421\n",
              "US                                                 521\n",
              "New York, New York, United States                  113\n",
              "Montreal, Quebec, Canada                            59\n",
              "Middlesex County, Massachusetts, United States      50\n",
              "                                                  ... \n",
              "Chongqing, Chongqing, China                          1\n",
              "Chatham, Massachusetts, United States                1\n",
              "USA                                                  1\n",
              "Boston Massachusetts, Roslindale Neighborhood        1\n",
              "Schaumburg, Illinois, United States                  1\n",
              "Name: host_location, Length: 176, dtype: int64"
            ]
          },
          "metadata": {},
          "execution_count": 6
        }
      ]
    },
    {
      "cell_type": "code",
      "metadata": {
        "colab": {
          "base_uri": "https://localhost:8080/"
        },
        "id": "tkNrzrNo98Ff",
        "outputId": "8e43b0e2-3f47-472f-f371-18af98a5b873"
      },
      "source": [
        "listing_df['city'].value_counts()"
      ],
      "execution_count": 7,
      "outputs": [
        {
          "output_type": "execute_result",
          "data": {
            "text/plain": [
              "Boston                       3381\n",
              "Roxbury Crossing               24\n",
              "Somerville                     19\n",
              "Brookline                      18\n",
              "Jamaica Plain                  18\n",
              "Cambridge                      16\n",
              "Brighton                       15\n",
              "Charlestown                    15\n",
              "Dorchester                     15\n",
              "Allston                        12\n",
              "Roslindale                      6\n",
              "West Roxbury                    5\n",
              "ROXBURY CROSSING                4\n",
              "Mattapan                        3\n",
              "East Boston                     3\n",
              "Hyde Park                       2\n",
              "Jamaica Plain                   2\n",
              "ALLSTON                         2\n",
              "South Boston                    2\n",
              "Boston, Massachusetts, US       2\n",
              "Jamaica Plain, Boston           2\n",
              "Boston                          1\n",
              "boston                          1\n",
              "Brighton                        1\n",
              "east Boston                     1\n",
              "Boston (Jamaica Plain)          1\n",
              "Roslindale, Boston              1\n",
              "Watertown                       1\n",
              "Boston (Charlestown)            1\n",
              "dorchester, boston              1\n",
              "South End, Boston               1\n",
              "Jamaica Plain, MA               1\n",
              "Jamaica Plain (Boston)          1\n",
              "Milton                          1\n",
              "Newton                          1\n",
              "Mission Hill, Boston            1\n",
              "波士顿                             1\n",
              "Jamaica plain                   1\n",
              "Name: city, dtype: int64"
            ]
          },
          "metadata": {},
          "execution_count": 7
        }
      ]
    },
    {
      "cell_type": "code",
      "metadata": {
        "colab": {
          "base_uri": "https://localhost:8080/"
        },
        "id": "HddTIcvO9-fK",
        "outputId": "323d2520-a9eb-4ce3-a3f1-98079ca267a8"
      },
      "source": [
        "listing_df['amenities'].value_counts()"
      ],
      "execution_count": 8,
      "outputs": [
        {
          "output_type": "execute_result",
          "data": {
            "text/plain": [
              "{}                                                                                                                                                                                                                                                                                                                  32\n",
              "{TV,\"Cable TV\",\"Wireless Internet\",\"Air Conditioning\",Kitchen,Heating,Washer,Dryer,\"translation missing: en.hosting_amenity_49\",\"translation missing: en.hosting_amenity_50\"}                                                                                                                                       15\n",
              "{TV,\"Cable TV\",\"Wireless Internet\",\"Air Conditioning\",Kitchen,Heating,Washer,Dryer,\"Smoke Detector\",\"Fire Extinguisher\",\"translation missing: en.hosting_amenity_49\",\"translation missing: en.hosting_amenity_50\"}                                                                                                  14\n",
              "{TV,\"Cable TV\",Internet,\"Wireless Internet\",\"Air Conditioning\",Kitchen,Gym,\"Elevator in Building\",\"Buzzer/Wireless Intercom\",Heating,\"Family/Kid Friendly\",Washer,Dryer,\"Smoke Detector\",\"Carbon Monoxide Detector\",Essentials,Shampoo,\"24-Hour Check-in\",Hangers,\"Hair Dryer\",Iron,\"Laptop Friendly Workspace\"}    14\n",
              "{TV,\"Cable TV\",Internet,\"Wireless Internet\",\"Air Conditioning\",Pool,Kitchen,Doorman,Gym,\"Elevator in Building\",Heating,\"Family/Kid Friendly\",Washer,Dryer,Essentials,Shampoo,\"24-Hour Check-in\",\"Hair Dryer\",Iron}                                                                                                  11\n",
              "                                                                                                                                                                                                                                                                                                                    ..\n",
              "{TV,\"Cable TV\",Internet,\"Wireless Internet\",\"Air Conditioning\",Kitchen,Heating,\"Family/Kid Friendly\",\"Smoke Detector\",\"Carbon Monoxide Detector\",\"Fire Extinguisher\",Essentials}                                                                                                                                     1\n",
              "{TV,Internet,\"Wireless Internet\",\"Air Conditioning\",Kitchen,\"Elevator in Building\",Heating,\"Family/Kid Friendly\",Washer,Dryer,\"Smoke Detector\",\"Carbon Monoxide Detector\",\"First Aid Kit\",\"Fire Extinguisher\",Essentials,Shampoo,\"24-Hour Check-in\",Hangers,\"Hair Dryer\",Iron,\"Laptop Friendly Workspace\"}           1\n",
              "{TV,\"Cable TV\",Internet,\"Wireless Internet\",\"Air Conditioning\",Kitchen,\"Buzzer/Wireless Intercom\",Heating,\"Family/Kid Friendly\",Washer,Dryer,\"Smoke Detector\",\"Fire Extinguisher\",Essentials,\"translation missing: en.hosting_amenity_50\"}                                                                           1\n",
              "{TV,\"Cable TV\",Internet,\"Wireless Internet\",\"Air Conditioning\",Kitchen,\"Elevator in Building\",\"Buzzer/Wireless Intercom\",Heating,Washer,Dryer,\"Smoke Detector\",\"Carbon Monoxide Detector\",Essentials,Shampoo,\"24-Hour Check-in\",Hangers,\"Hair Dryer\",Iron,\"Laptop Friendly Workspace\"}                               1\n",
              "{TV,\"Wireless Internet\",\"Air Conditioning\",Kitchen,\"Buzzer/Wireless Intercom\",Heating,Washer,Dryer,\"Smoke Detector\",\"Carbon Monoxide Detector\",Shampoo,\"Lock on Bedroom Door\",\"Hair Dryer\",Iron,\"translation missing: en.hosting_amenity_49\",\"translation missing: en.hosting_amenity_50\"}                           1\n",
              "Name: amenities, Length: 3092, dtype: int64"
            ]
          },
          "metadata": {},
          "execution_count": 8
        }
      ]
    },
    {
      "cell_type": "code",
      "metadata": {
        "colab": {
          "base_uri": "https://localhost:8080/"
        },
        "id": "LLkuZNie-CMr",
        "outputId": "5960b1e7-f813-4898-f66c-131dfc43e860"
      },
      "source": [
        "listing_df['neighbourhood_group_cleansed'].head()"
      ],
      "execution_count": 9,
      "outputs": [
        {
          "output_type": "execute_result",
          "data": {
            "text/plain": [
              "0   NaN\n",
              "1   NaN\n",
              "2   NaN\n",
              "3   NaN\n",
              "4   NaN\n",
              "Name: neighbourhood_group_cleansed, dtype: float64"
            ]
          },
          "metadata": {},
          "execution_count": 9
        }
      ]
    },
    {
      "cell_type": "code",
      "metadata": {
        "colab": {
          "base_uri": "https://localhost:8080/",
          "height": 206
        },
        "id": "FkivcUZC-HqB",
        "outputId": "01c6ba33-6cb8-4c0e-e041-d41782879da3"
      },
      "source": [
        "neighbourhood_cols = ['id', 'property_type', 'room_type', 'neighbourhood', \n",
        "                      'neighbourhood_cleansed','zipcode', 'price']\n",
        "\n",
        "neighbourhood_listings = listing_df[neighbourhood_cols]\n",
        "neighbourhood_listings.tail()"
      ],
      "execution_count": 10,
      "outputs": [
        {
          "output_type": "execute_result",
          "data": {
            "text/html": [
              "<div>\n",
              "<style scoped>\n",
              "    .dataframe tbody tr th:only-of-type {\n",
              "        vertical-align: middle;\n",
              "    }\n",
              "\n",
              "    .dataframe tbody tr th {\n",
              "        vertical-align: top;\n",
              "    }\n",
              "\n",
              "    .dataframe thead th {\n",
              "        text-align: right;\n",
              "    }\n",
              "</style>\n",
              "<table border=\"1\" class=\"dataframe\">\n",
              "  <thead>\n",
              "    <tr style=\"text-align: right;\">\n",
              "      <th></th>\n",
              "      <th>id</th>\n",
              "      <th>property_type</th>\n",
              "      <th>room_type</th>\n",
              "      <th>neighbourhood</th>\n",
              "      <th>neighbourhood_cleansed</th>\n",
              "      <th>zipcode</th>\n",
              "      <th>price</th>\n",
              "    </tr>\n",
              "  </thead>\n",
              "  <tbody>\n",
              "    <tr>\n",
              "      <th>3580</th>\n",
              "      <td>8373729</td>\n",
              "      <td>Apartment</td>\n",
              "      <td>Private room</td>\n",
              "      <td>Somerville</td>\n",
              "      <td>Charlestown</td>\n",
              "      <td>02143</td>\n",
              "      <td>$69.00</td>\n",
              "    </tr>\n",
              "    <tr>\n",
              "      <th>3581</th>\n",
              "      <td>14844274</td>\n",
              "      <td>Apartment</td>\n",
              "      <td>Private room</td>\n",
              "      <td>NaN</td>\n",
              "      <td>Allston</td>\n",
              "      <td>02446</td>\n",
              "      <td>$150.00</td>\n",
              "    </tr>\n",
              "    <tr>\n",
              "      <th>3582</th>\n",
              "      <td>14585486</td>\n",
              "      <td>Apartment</td>\n",
              "      <td>Entire home/apt</td>\n",
              "      <td>NaN</td>\n",
              "      <td>Charlestown</td>\n",
              "      <td>02141</td>\n",
              "      <td>$198.00</td>\n",
              "    </tr>\n",
              "    <tr>\n",
              "      <th>3583</th>\n",
              "      <td>14603878</td>\n",
              "      <td>Apartment</td>\n",
              "      <td>Private room</td>\n",
              "      <td>Somerville</td>\n",
              "      <td>Charlestown</td>\n",
              "      <td>02145</td>\n",
              "      <td>$65.00</td>\n",
              "    </tr>\n",
              "    <tr>\n",
              "      <th>3584</th>\n",
              "      <td>14504422</td>\n",
              "      <td>Apartment</td>\n",
              "      <td>Private room</td>\n",
              "      <td>Somerville</td>\n",
              "      <td>Charlestown</td>\n",
              "      <td>02145</td>\n",
              "      <td>$65.00</td>\n",
              "    </tr>\n",
              "  </tbody>\n",
              "</table>\n",
              "</div>"
            ],
            "text/plain": [
              "            id property_type  ... zipcode    price\n",
              "3580   8373729     Apartment  ...   02143   $69.00\n",
              "3581  14844274     Apartment  ...   02446  $150.00\n",
              "3582  14585486     Apartment  ...   02141  $198.00\n",
              "3583  14603878     Apartment  ...   02145   $65.00\n",
              "3584  14504422     Apartment  ...   02145   $65.00\n",
              "\n",
              "[5 rows x 7 columns]"
            ]
          },
          "metadata": {},
          "execution_count": 10
        }
      ]
    },
    {
      "cell_type": "markdown",
      "metadata": {
        "id": "UjoB3rXhaKh4"
      },
      "source": [
        "# Understanding reviews.csv\n"
      ]
    },
    {
      "cell_type": "code",
      "metadata": {
        "colab": {
          "base_uri": "https://localhost:8080/",
          "height": 206
        },
        "id": "125xrKSQ-KnP",
        "outputId": "ca4582a6-100e-487b-d8fe-20a6a3c832ed"
      },
      "source": [
        "reviews_df.head()"
      ],
      "execution_count": 11,
      "outputs": [
        {
          "output_type": "execute_result",
          "data": {
            "text/html": [
              "<div>\n",
              "<style scoped>\n",
              "    .dataframe tbody tr th:only-of-type {\n",
              "        vertical-align: middle;\n",
              "    }\n",
              "\n",
              "    .dataframe tbody tr th {\n",
              "        vertical-align: top;\n",
              "    }\n",
              "\n",
              "    .dataframe thead th {\n",
              "        text-align: right;\n",
              "    }\n",
              "</style>\n",
              "<table border=\"1\" class=\"dataframe\">\n",
              "  <thead>\n",
              "    <tr style=\"text-align: right;\">\n",
              "      <th></th>\n",
              "      <th>listing_id</th>\n",
              "      <th>id</th>\n",
              "      <th>date</th>\n",
              "      <th>reviewer_id</th>\n",
              "      <th>reviewer_name</th>\n",
              "      <th>comments</th>\n",
              "    </tr>\n",
              "  </thead>\n",
              "  <tbody>\n",
              "    <tr>\n",
              "      <th>0</th>\n",
              "      <td>1178162</td>\n",
              "      <td>4724140</td>\n",
              "      <td>2013-05-21</td>\n",
              "      <td>4298113</td>\n",
              "      <td>Olivier</td>\n",
              "      <td>My stay at islam's place was really cool! Good...</td>\n",
              "    </tr>\n",
              "    <tr>\n",
              "      <th>1</th>\n",
              "      <td>1178162</td>\n",
              "      <td>4869189</td>\n",
              "      <td>2013-05-29</td>\n",
              "      <td>6452964</td>\n",
              "      <td>Charlotte</td>\n",
              "      <td>Great location for both airport and city - gre...</td>\n",
              "    </tr>\n",
              "    <tr>\n",
              "      <th>2</th>\n",
              "      <td>1178162</td>\n",
              "      <td>5003196</td>\n",
              "      <td>2013-06-06</td>\n",
              "      <td>6449554</td>\n",
              "      <td>Sebastian</td>\n",
              "      <td>We really enjoyed our stay at Islams house. Fr...</td>\n",
              "    </tr>\n",
              "    <tr>\n",
              "      <th>3</th>\n",
              "      <td>1178162</td>\n",
              "      <td>5150351</td>\n",
              "      <td>2013-06-15</td>\n",
              "      <td>2215611</td>\n",
              "      <td>Marine</td>\n",
              "      <td>The room was nice and clean and so were the co...</td>\n",
              "    </tr>\n",
              "    <tr>\n",
              "      <th>4</th>\n",
              "      <td>1178162</td>\n",
              "      <td>5171140</td>\n",
              "      <td>2013-06-16</td>\n",
              "      <td>6848427</td>\n",
              "      <td>Andrew</td>\n",
              "      <td>Great location. Just 5 mins walk from the Airp...</td>\n",
              "    </tr>\n",
              "  </tbody>\n",
              "</table>\n",
              "</div>"
            ],
            "text/plain": [
              "   listing_id  ...                                           comments\n",
              "0     1178162  ...  My stay at islam's place was really cool! Good...\n",
              "1     1178162  ...  Great location for both airport and city - gre...\n",
              "2     1178162  ...  We really enjoyed our stay at Islams house. Fr...\n",
              "3     1178162  ...  The room was nice and clean and so were the co...\n",
              "4     1178162  ...  Great location. Just 5 mins walk from the Airp...\n",
              "\n",
              "[5 rows x 6 columns]"
            ]
          },
          "metadata": {},
          "execution_count": 11
        }
      ]
    },
    {
      "cell_type": "code",
      "metadata": {
        "colab": {
          "base_uri": "https://localhost:8080/"
        },
        "id": "EFXx04FBaUhM",
        "outputId": "bb7be10d-49f4-4892-c072-c144d232e07e"
      },
      "source": [
        "reviews_df.dtypes"
      ],
      "execution_count": 12,
      "outputs": [
        {
          "output_type": "execute_result",
          "data": {
            "text/plain": [
              "listing_id        int64\n",
              "id                int64\n",
              "date             object\n",
              "reviewer_id       int64\n",
              "reviewer_name    object\n",
              "comments         object\n",
              "dtype: object"
            ]
          },
          "metadata": {},
          "execution_count": 12
        }
      ]
    },
    {
      "cell_type": "code",
      "metadata": {
        "id": "8Wspb99VaUSe"
      },
      "source": [
        "reviews_df_subset = reviews_df.drop(['reviewer_name'], axis = 1)"
      ],
      "execution_count": 13,
      "outputs": []
    },
    {
      "cell_type": "code",
      "metadata": {
        "colab": {
          "base_uri": "https://localhost:8080/",
          "height": 454
        },
        "id": "0-WhcvEZaaxj",
        "outputId": "f81fe31c-8f63-4b8b-aa18-b51c795cf8e2"
      },
      "source": [
        "reviews_df.groupby(['listing_id']).agg({'comments':'count'})"
      ],
      "execution_count": 14,
      "outputs": [
        {
          "output_type": "execute_result",
          "data": {
            "text/html": [
              "<div>\n",
              "<style scoped>\n",
              "    .dataframe tbody tr th:only-of-type {\n",
              "        vertical-align: middle;\n",
              "    }\n",
              "\n",
              "    .dataframe tbody tr th {\n",
              "        vertical-align: top;\n",
              "    }\n",
              "\n",
              "    .dataframe thead th {\n",
              "        text-align: right;\n",
              "    }\n",
              "</style>\n",
              "<table border=\"1\" class=\"dataframe\">\n",
              "  <thead>\n",
              "    <tr style=\"text-align: right;\">\n",
              "      <th></th>\n",
              "      <th>comments</th>\n",
              "    </tr>\n",
              "    <tr>\n",
              "      <th>listing_id</th>\n",
              "      <th></th>\n",
              "    </tr>\n",
              "  </thead>\n",
              "  <tbody>\n",
              "    <tr>\n",
              "      <th>3353</th>\n",
              "      <td>34</td>\n",
              "    </tr>\n",
              "    <tr>\n",
              "      <th>5506</th>\n",
              "      <td>36</td>\n",
              "    </tr>\n",
              "    <tr>\n",
              "      <th>6695</th>\n",
              "      <td>47</td>\n",
              "    </tr>\n",
              "    <tr>\n",
              "      <th>6976</th>\n",
              "      <td>41</td>\n",
              "    </tr>\n",
              "    <tr>\n",
              "      <th>8792</th>\n",
              "      <td>18</td>\n",
              "    </tr>\n",
              "    <tr>\n",
              "      <th>...</th>\n",
              "      <td>...</td>\n",
              "    </tr>\n",
              "    <tr>\n",
              "      <th>14813006</th>\n",
              "      <td>1</td>\n",
              "    </tr>\n",
              "    <tr>\n",
              "      <th>14823724</th>\n",
              "      <td>1</td>\n",
              "    </tr>\n",
              "    <tr>\n",
              "      <th>14842237</th>\n",
              "      <td>1</td>\n",
              "    </tr>\n",
              "    <tr>\n",
              "      <th>14843050</th>\n",
              "      <td>2</td>\n",
              "    </tr>\n",
              "    <tr>\n",
              "      <th>14843783</th>\n",
              "      <td>3</td>\n",
              "    </tr>\n",
              "  </tbody>\n",
              "</table>\n",
              "<p>2829 rows × 1 columns</p>\n",
              "</div>"
            ],
            "text/plain": [
              "            comments\n",
              "listing_id          \n",
              "3353              34\n",
              "5506              36\n",
              "6695              47\n",
              "6976              41\n",
              "8792              18\n",
              "...              ...\n",
              "14813006           1\n",
              "14823724           1\n",
              "14842237           1\n",
              "14843050           2\n",
              "14843783           3\n",
              "\n",
              "[2829 rows x 1 columns]"
            ]
          },
          "metadata": {},
          "execution_count": 14
        }
      ]
    },
    {
      "cell_type": "code",
      "metadata": {
        "colab": {
          "base_uri": "https://localhost:8080/",
          "height": 454
        },
        "id": "nB9fFvt2agXo",
        "outputId": "145f1d2b-2856-43f1-de98-df615c2fdde6"
      },
      "source": [
        "listing_df.groupby(['id']).agg({'number_of_reviews':'sum'})\n"
      ],
      "execution_count": 15,
      "outputs": [
        {
          "output_type": "execute_result",
          "data": {
            "text/html": [
              "<div>\n",
              "<style scoped>\n",
              "    .dataframe tbody tr th:only-of-type {\n",
              "        vertical-align: middle;\n",
              "    }\n",
              "\n",
              "    .dataframe tbody tr th {\n",
              "        vertical-align: top;\n",
              "    }\n",
              "\n",
              "    .dataframe thead th {\n",
              "        text-align: right;\n",
              "    }\n",
              "</style>\n",
              "<table border=\"1\" class=\"dataframe\">\n",
              "  <thead>\n",
              "    <tr style=\"text-align: right;\">\n",
              "      <th></th>\n",
              "      <th>number_of_reviews</th>\n",
              "    </tr>\n",
              "    <tr>\n",
              "      <th>id</th>\n",
              "      <th></th>\n",
              "    </tr>\n",
              "  </thead>\n",
              "  <tbody>\n",
              "    <tr>\n",
              "      <th>3353</th>\n",
              "      <td>34</td>\n",
              "    </tr>\n",
              "    <tr>\n",
              "      <th>5506</th>\n",
              "      <td>36</td>\n",
              "    </tr>\n",
              "    <tr>\n",
              "      <th>6695</th>\n",
              "      <td>47</td>\n",
              "    </tr>\n",
              "    <tr>\n",
              "      <th>6976</th>\n",
              "      <td>41</td>\n",
              "    </tr>\n",
              "    <tr>\n",
              "      <th>8792</th>\n",
              "      <td>18</td>\n",
              "    </tr>\n",
              "    <tr>\n",
              "      <th>...</th>\n",
              "      <td>...</td>\n",
              "    </tr>\n",
              "    <tr>\n",
              "      <th>14924831</th>\n",
              "      <td>0</td>\n",
              "    </tr>\n",
              "    <tr>\n",
              "      <th>14928000</th>\n",
              "      <td>0</td>\n",
              "    </tr>\n",
              "    <tr>\n",
              "      <th>14928333</th>\n",
              "      <td>0</td>\n",
              "    </tr>\n",
              "    <tr>\n",
              "      <th>14933380</th>\n",
              "      <td>0</td>\n",
              "    </tr>\n",
              "    <tr>\n",
              "      <th>14933461</th>\n",
              "      <td>0</td>\n",
              "    </tr>\n",
              "  </tbody>\n",
              "</table>\n",
              "<p>3585 rows × 1 columns</p>\n",
              "</div>"
            ],
            "text/plain": [
              "          number_of_reviews\n",
              "id                         \n",
              "3353                     34\n",
              "5506                     36\n",
              "6695                     47\n",
              "6976                     41\n",
              "8792                     18\n",
              "...                     ...\n",
              "14924831                  0\n",
              "14928000                  0\n",
              "14928333                  0\n",
              "14933380                  0\n",
              "14933461                  0\n",
              "\n",
              "[3585 rows x 1 columns]"
            ]
          },
          "metadata": {},
          "execution_count": 15
        }
      ]
    },
    {
      "cell_type": "markdown",
      "metadata": {
        "id": "9P44kW8Qaxyv"
      },
      "source": [
        "# Understanding Calender.csv"
      ]
    },
    {
      "cell_type": "code",
      "metadata": {
        "colab": {
          "base_uri": "https://localhost:8080/"
        },
        "id": "I9z-M6-Ua2zY",
        "outputId": "77b996a8-5f61-4c9e-f08d-58e8cc38c33e"
      },
      "source": [
        "calendar_df.head()\n",
        "calendar_df.shape"
      ],
      "execution_count": 16,
      "outputs": [
        {
          "output_type": "execute_result",
          "data": {
            "text/plain": [
              "(1308890, 4)"
            ]
          },
          "metadata": {},
          "execution_count": 16
        }
      ]
    },
    {
      "cell_type": "markdown",
      "metadata": {
        "id": "mhn39CTsbJv1"
      },
      "source": [
        "# Most popular Neighbourhood in Boston"
      ]
    },
    {
      "cell_type": "code",
      "metadata": {
        "colab": {
          "base_uri": "https://localhost:8080/",
          "height": 533
        },
        "id": "1tjK8Tu2a9CN",
        "outputId": "1b3cee30-5eb6-4767-f051-d211d9aa0917"
      },
      "source": [
        "plt.figure(figsize=(8, 8), dpi=80)\n",
        "plt.scatter(listing_df['number_of_reviews'], listing_df['neighbourhood_cleansed'], c = 'skyblue', marker = \"*\")\n",
        "plt.show()"
      ],
      "execution_count": 74,
      "outputs": [
        {
          "output_type": "display_data",
          "data": {
            "image/png": "[encoded data removed]",
            "text/plain": [
              "<Figure size 640x640 with 1 Axes>"
            ]
          },
          "metadata": {
            "needs_background": "light"
          }
        }
      ]
    },
    {
      "cell_type": "markdown",
      "metadata": {
        "id": "-L1leauRe5oM"
      },
      "source": [
        "The most popular neighbourhoods in Boston according to the number of the reviews left are the following:\n",
        "\n",
        "1) Mission Hill with over 400 reviews\n",
        "\n",
        "2) East Boston  with nearly 350 and \n",
        "\n",
        "3) Back Bay with around 310 reviews\n",
        "\n",
        "Areas such as Dorchester, Jamaica Plain and North End are next with reviews ranging betweem 250-300.\n",
        "\n",
        "Above findings are soulely based on the number of reviews in total, it does not reflectt only positive reviews, the main assumption here is that the more reviews left in one particular area means the popularity of this area among renters in Boston.\n",
        "\n"
      ]
    },
    {
      "cell_type": "markdown",
      "metadata": {
        "id": "zls7SjlmgC7F"
      },
      "source": [
        "*Avaialability of the AirBnbs*"
      ]
    },
    {
      "cell_type": "code",
      "metadata": {
        "colab": {
          "base_uri": "https://localhost:8080/",
          "height": 561
        },
        "id": "J87_K49BbWpl",
        "outputId": "5a449b49-952e-4737-e63c-2699aae0bdf7"
      },
      "source": [
        "plt.figure(figsize = (9,9))\n",
        "plt.xticks(rotation=90)\n",
        "ax = sns.boxplot(data=listing_df, x = 'availability_365', y = 'neighbourhood_cleansed', palette = 'Blues')"
      ],
      "execution_count": 75,
      "outputs": [
        {
          "output_type": "display_data",
          "data": {
            "image/png": "[encoded data removed]",
            "text/plain": [
              "<Figure size 648x648 with 1 Axes>"
            ]
          },
          "metadata": {
            "needs_background": "light"
          }
        }
      ]
    },
    {
      "cell_type": "markdown",
      "metadata": {
        "id": "aNiql5IFgOUe"
      },
      "source": [
        "To back the above assumption which is purely based on the reviews, if we have a look at the availability throughout the year in the neighbourhood areas:\n",
        "\n",
        "1) Mission Hill 50/365 days\n",
        "\n",
        "2) East Boston 250/365\n",
        "\n",
        "3) Back Bay 180/365\n",
        "\n",
        " And Dorchester 300/365, Jamaica Plain 180/365 and North End 200/365 days\n",
        "The point is more or less proven, the Mission Hill area which has the highest number of reviews, shows also only 50 days availability throughout the year. \n",
        "\n",
        "\n",
        "While Leather District is avialable (365/365) and it also has the lowest number of reviews, 50.\n",
        "It is helpful to see the prices in each neihbourhood too, to come up with the final conclusions."
      ]
    },
    {
      "cell_type": "code",
      "metadata": {
        "colab": {
          "base_uri": "https://localhost:8080/",
          "height": 523
        },
        "id": "iP9rqrk_eOII",
        "outputId": "57ef4ed2-ee78-4c4d-d916-f41f26226173"
      },
      "source": [
        "price_per_neighbourhood = listing_df.groupby(['neighbourhood_cleansed']).price.mean()\n",
        "plt.figure(figsize=(12,8));\n",
        "price_per_neighbourhood.plot(kind='barh', color='lightblue');\n",
        "plt.xlabel('Average Price', size =16)\n",
        "plt.ylabel('Neighbourhood', size =16)\n",
        "plt.title('Neighbourhood Average Price Chart', weight ='bold', size = 20);\n"
      ],
      "execution_count": 123,
      "outputs": [
        {
          "output_type": "display_data",
          "data": {
            "image/png": "[encoded data removed]",
            "text/plain": [
              "<Figure size 864x576 with 1 Axes>"
            ]
          },
          "metadata": {
            "needs_background": "light"
          }
        }
      ]
    },
    {
      "cell_type": "markdown",
      "metadata": {
        "id": "TP5OD-rNhsxx"
      },
      "source": [
        "\n",
        "As per the price,\n",
        "\n",
        "\n",
        "*South Boston Waterfront*, *Bay Village* and *Leather District* are the most expensive areas to airbnb in Boston, which explains the lack of demand to these areas among renters and all is topped up with the small number of reviews.\n",
        "\n",
        "While, \n",
        "\n",
        "1) *Mission Hill* has the average price of 120, which is more than twice cheaper the South Boston Waterfront, which makes the neighbourhood more attractive for visitors.\n",
        "\n",
        "2) East Boston has the same average price as Mission Hill\n",
        "\n",
        "3) Back Bay area's average price is almost 250 per night"
      ]
    },
    {
      "cell_type": "markdown",
      "metadata": {
        "id": "LU4DzX0HdkCl"
      },
      "source": [
        "# Most common price listings for AirBnb\n"
      ]
    },
    {
      "cell_type": "code",
      "metadata": {
        "colab": {
          "base_uri": "https://localhost:8080/",
          "height": 627
        },
        "id": "T0lX77_t-RRM",
        "outputId": "98dd4bfe-6e5f-4448-ad26-02da7336d8c3"
      },
      "source": [
        "plt.figure(figsize=(16, 10));\n",
        "listing_df['price'].hist(bins = 30, color='#f5a442');\n",
        "plt.title('Price', size = 16, weight = 'bold');\n",
        "plt.ylabel('Count', weight = 'bold', size = 16);\n",
        "plt.xlabel('Price (USD)', weight = 'bold', size= 16);"
      ],
      "execution_count": 101,
      "outputs": [
        {
          "output_type": "display_data",
          "data": {
            "image/png": "[encoded data removed]",
            "text/plain": [
              "<Figure size 1152x720 with 1 Axes>"
            ]
          },
          "metadata": {
            "needs_background": "light"
          }
        }
      ]
    },
    {
      "cell_type": "markdown",
      "metadata": {
        "id": "CdPtMAkqnIu8"
      },
      "source": [
        "The above graph show that there are lot of AirBnBs with price in the range of 0-500USD and very few above 500$. Maximum price for an AirBnB in Boston is near 400USD. "
      ]
    },
    {
      "cell_type": "code",
      "metadata": {
        "colab": {
          "base_uri": "https://localhost:8080/"
        },
        "id": "fYdP_IDEm9NV",
        "outputId": "1a32f2e1-98df-45f1-a30b-3a78e24327f3"
      },
      "source": [
        "listing_df[listing_df['price'] > 500]['price'].count()"
      ],
      "execution_count": 120,
      "outputs": [
        {
          "output_type": "execute_result",
          "data": {
            "text/plain": [
              "66"
            ]
          },
          "metadata": {},
          "execution_count": 120
        }
      ]
    },
    {
      "cell_type": "code",
      "metadata": {
        "colab": {
          "base_uri": "https://localhost:8080/",
          "height": 635
        },
        "id": "vdAwzHqc-UON",
        "outputId": "47029c1c-1af8-4591-96cf-3644b3ea7275"
      },
      "source": [
        "plt.figure(figsize=(16, 10));\n",
        "listing_df[listing_df['price'] > 500]['price'].hist(bins=40, color='#f5a442');\n",
        "plt.title('Price of AirBNBs > 500 $', size = 20, weight = 'bold');\n",
        "plt.ylabel('Count',size = 16);\n",
        "plt.xlabel('Price (USD)',  size = 20);"
      ],
      "execution_count": 117,
      "outputs": [
        {
          "output_type": "display_data",
          "data": {
            "image/png": "[encoded data removed]",
            "text/plain": [
              "<Figure size 1152x720 with 1 Axes>"
            ]
          },
          "metadata": {
            "needs_background": "light"
          }
        }
      ]
    },
    {
      "cell_type": "markdown",
      "metadata": {
        "id": "xTbS8fQcnzsB"
      },
      "source": [
        "There are only 66 listings in Boston with price greater than 500USD and most of them are below 1000$.\n",
        "\n",
        "---\n",
        "\n"
      ]
    },
    {
      "cell_type": "code",
      "metadata": {
        "colab": {
          "base_uri": "https://localhost:8080/"
        },
        "id": "wt-Y-JeFnDgB",
        "outputId": "e683cf40-94c8-466a-8843-854072067fb8"
      },
      "source": [
        "listing_df[listing_df['price'] < 500]['price'].count()"
      ],
      "execution_count": 121,
      "outputs": [
        {
          "output_type": "execute_result",
          "data": {
            "text/plain": [
              "3495"
            ]
          },
          "metadata": {},
          "execution_count": 121
        }
      ]
    },
    {
      "cell_type": "code",
      "metadata": {
        "colab": {
          "base_uri": "https://localhost:8080/",
          "height": 635
        },
        "id": "bGt5elCv-X5v",
        "outputId": "2ab34d56-89e0-4e86-8f95-83338d48cd8d"
      },
      "source": [
        "plt.figure(figsize=(16, 10));\n",
        "listing_df[listing_df['price'] < 500]['price'].hist(bins=80, color=\"#f5a442\");\n",
        "plt.title('Price of AirBNBs < 500 $', size = 20, weight = 'bold');\n",
        "plt.ylabel('Count of AirBnbs', size =16, weight = 'bold');\n",
        "plt.xlabel('Price (USD)', size = 20,  weight = 'bold');"
      ],
      "execution_count": 118,
      "outputs": [
        {
          "output_type": "display_data",
          "data": {
            "image/png": "[encoded data removed]",
            "text/plain": [
              "<Figure size 1152x720 with 1 Axes>"
            ]
          },
          "metadata": {
            "needs_background": "light"
          }
        }
      ]
    },
    {
      "cell_type": "markdown",
      "metadata": {
        "id": "K_UQtMXin_oQ"
      },
      "source": [
        "Above graph shows that there are 3495 AirBnb listings in Bostion with a price less than 500USD and most of them are in the range of 50-250 USD."
      ]
    },
    {
      "cell_type": "markdown",
      "metadata": {
        "id": "HLlGUTwSiY5R"
      },
      "source": [
        "*Price Based on Property_type*"
      ]
    },
    {
      "cell_type": "code",
      "metadata": {
        "colab": {
          "base_uri": "https://localhost:8080/",
          "height": 648
        },
        "id": "wxDsEwAhNNan",
        "outputId": "f88592e7-6657-4897-8533-41d9339d4c80"
      },
      "source": [
        "\n",
        "plt.figure(figsize=(16,10))\n",
        "plt.title('Average price per property type', weight ='bold', size = 20);\n",
        "plt.xlabel('room_type', size = 12)\n",
        "plt.ylabel('property_type', size = 12)\n",
        "sns.heatmap(listing_df.groupby(['property_type','room_type']).price.mean().unstack(), annot=True, fmt='.1f', linewidths= .5, cmap='Pastel2')"
      ],
      "execution_count": 87,
      "outputs": [
        {
          "output_type": "execute_result",
          "data": {
            "text/plain": [
              "<matplotlib.axes._subplots.AxesSubplot at 0x7fcd30404ad0>"
            ]
          },
          "metadata": {},
          "execution_count": 87
        },
        {
          "output_type": "display_data",
          "data": {
            "image/png": "[encoded data removed]",
            "text/plain": [
              "<Figure size 1152x720 with 2 Axes>"
            ]
          },
          "metadata": {
            "needs_background": "light"
          }
        }
      ]
    },
    {
      "cell_type": "markdown",
      "metadata": {
        "id": "UkSev0wcoeP8"
      },
      "source": [
        "From the heatmap above we can clearly see that entire home/apartment room type has a tendency of being average priced room type among the all property types that are given. "
      ]
    },
    {
      "cell_type": "markdown",
      "metadata": {
        "id": "OepostQameO5"
      },
      "source": [
        "## Top Amenities"
      ]
    },
    {
      "cell_type": "code",
      "metadata": {
        "colab": {
          "base_uri": "https://localhost:8080/",
          "height": 352
        },
        "id": "Bai3L3fuNur2",
        "outputId": "af85c3a3-09e0-467c-ffd5-db039acc6eda"
      },
      "source": [
        "fig, ax = plt.subplots(figsize=(10,5))  \n",
        "sns.barplot(x='price', y='host_is_superhost', data=listing_df)"
      ],
      "execution_count": 109,
      "outputs": [
        {
          "output_type": "execute_result",
          "data": {
            "text/plain": [
              "<matplotlib.axes._subplots.AxesSubplot at 0x7fcd2fc64690>"
            ]
          },
          "metadata": {},
          "execution_count": 109
        },
        {
          "output_type": "display_data",
          "data": {
            "image/png": "[encoded data removed]",
            "text/plain": [
              "<Figure size 720x360 with 1 Axes>"
            ]
          },
          "metadata": {
            "needs_background": "light"
          }
        }
      ]
    },
    {
      "cell_type": "code",
      "metadata": {
        "colab": {
          "base_uri": "https://localhost:8080/"
        },
        "id": "8eejrmB-N0qw",
        "outputId": "86cee093-b228-435e-a722-17fdcaeeed21"
      },
      "source": [
        "listing_df.groupby(['price', 'beds','bed_type','amenities','square_feet','security_deposit', 'cleaning_fee'])"
      ],
      "execution_count": 110,
      "outputs": [
        {
          "output_type": "execute_result",
          "data": {
            "text/plain": [
              "<pandas.core.groupby.generic.DataFrameGroupBy object at 0x7fcd30216110>"
            ]
          },
          "metadata": {},
          "execution_count": 110
        }
      ]
    },
    {
      "cell_type": "code",
      "metadata": {
        "colab": {
          "base_uri": "https://localhost:8080/"
        },
        "id": "syAQHfKbN-o0",
        "outputId": "df46311d-3d2f-4e63-a29a-372e08ce18b7"
      },
      "source": [
        "listing_df['amenities'].head()"
      ],
      "execution_count": 111,
      "outputs": [
        {
          "output_type": "execute_result",
          "data": {
            "text/plain": [
              "0    {TV,\"Wireless Internet\",Kitchen,\"Free Parking ...\n",
              "1    {TV,Internet,\"Wireless Internet\",\"Air Conditio...\n",
              "2    {TV,\"Cable TV\",\"Wireless Internet\",\"Air Condit...\n",
              "3    {TV,Internet,\"Wireless Internet\",\"Air Conditio...\n",
              "4    {Internet,\"Wireless Internet\",\"Air Conditionin...\n",
              "Name: amenities, dtype: object"
            ]
          },
          "metadata": {},
          "execution_count": 111
        }
      ]
    },
    {
      "cell_type": "code",
      "metadata": {
        "id": "xR20Zss2ODpm"
      },
      "source": [
        "amenities = listing_df['amenities'].apply(lambda x: [a.replace('{', '').replace('}', '').replace('\"', '') for a in x.split(',')])"
      ],
      "execution_count": 112,
      "outputs": []
    },
    {
      "cell_type": "code",
      "metadata": {
        "id": "Cogw8vkcOGWE"
      },
      "source": [
        "mlb = MultiLabelBinarizer()\n",
        "amenities_result = pd.DataFrame(mlb.fit_transform(amenities), index=amenities.index, columns=mlb.classes_)\n",
        "amenities_count=amenities_result.sum().sort_values(ascending=False)"
      ],
      "execution_count": 113,
      "outputs": []
    },
    {
      "cell_type": "code",
      "metadata": {
        "colab": {
          "base_uri": "https://localhost:8080/",
          "height": 534
        },
        "id": "t4PjYVN-OMOi",
        "outputId": "de0fc193-5aee-4b3a-9fde-95671176ecb0"
      },
      "source": [
        "plt.figure(figsize=(16,8))\n",
        "plt.barh(amenities_count[:10].index,amenities_count[:10].values)\n",
        "plt.title('Top 5 Popular Amenities',weight='bold', size =12)\n",
        "plt.ylabel('Amenity',size =12)\n",
        "plt.xlabel('Occurence', size =12)"
      ],
      "execution_count": 122,
      "outputs": [
        {
          "output_type": "execute_result",
          "data": {
            "text/plain": [
              "Text(0.5, 0, 'Occurence')"
            ]
          },
          "metadata": {},
          "execution_count": 122
        },
        {
          "output_type": "display_data",
          "data": {
            "image/png": "[encoded data removed]",
            "text/plain": [
              "<Figure size 1152x576 with 1 Axes>"
            ]
          },
          "metadata": {
            "needs_background": "light"
          }
        }
      ]
    },
    {
      "cell_type": "markdown",
      "metadata": {
        "id": "hoRVqKefovf6"
      },
      "source": [
        "The histogram above depicts the top 10 amenities that visitors look for in the AirBnBs with Wi-Fi being the highest obviously and next to it are heating(which might change based on season) and Kitchen."
      ]
    }
  ]
}
